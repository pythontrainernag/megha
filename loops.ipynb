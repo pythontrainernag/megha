{
 "cells": [
  {
   "cell_type": "code",
   "execution_count": 1,
   "metadata": {
    "collapsed": true
   },
   "outputs": [],
   "source": [
    "#while\n",
    "#execute block of statements untill condition fails\n",
    "\n",
    "#syntax\n",
    "#while <condition>:\n",
    "#     <statements>"
   ]
  },
  {
   "cell_type": "code",
   "execution_count": 2,
   "metadata": {},
   "outputs": [
    {
     "name": "stdout",
     "output_type": "stream",
     "text": [
      "enter a value less than 108\n",
      "8\n",
      "inside while\n",
      "9\n",
      "inside while\n",
      "10\n",
      "inside while\n"
     ]
    }
   ],
   "source": [
    "a = raw_input(\"enter a value less than 10\")\n",
    "a = int(a)\n",
    "while a<=10:\n",
    "    print a\n",
    "    print \"inside while\"\n",
    "    a += 1"
   ]
  },
  {
   "cell_type": "code",
   "execution_count": 3,
   "metadata": {},
   "outputs": [
    {
     "name": "stdout",
     "output_type": "stream",
     "text": [
      "enter a value less than 108\n",
      "8\n",
      "9\n",
      "10\n",
      "outside while\n"
     ]
    }
   ],
   "source": [
    "a = raw_input(\"enter a value less than 10\")\n",
    "a = int(a)\n",
    "while True:\n",
    "    print a\n",
    "    if a == 10:\n",
    "        break\n",
    "    a += 1\n",
    "print \"outside while\""
   ]
  },
  {
   "cell_type": "code",
   "execution_count": 4,
   "metadata": {},
   "outputs": [
    {
     "name": "stdout",
     "output_type": "stream",
     "text": [
      "enter a value less than 108\n",
      "8\n",
      "outside while\n"
     ]
    }
   ],
   "source": [
    "a = raw_input(\"enter a value less than 10\")\n",
    "a = int(a)\n",
    "while True:\n",
    "    print a\n",
    "    break\n",
    "    a += 1\n",
    "print \"outside while\""
   ]
  },
  {
   "cell_type": "code",
   "execution_count": 5,
   "metadata": {},
   "outputs": [
    {
     "name": "stdout",
     "output_type": "stream",
     "text": [
      "enter a value less than 108\n",
      "8\n",
      "continue not executed\n",
      "9\n",
      "continue not executed\n",
      "10\n",
      "continue executed\n",
      "11\n",
      "continue not executed\n",
      "12\n",
      "continue not executed\n",
      "13\n",
      "continue not executed\n",
      "14\n",
      "continue not executed\n",
      "15\n",
      "continue not executed\n",
      "16\n",
      "continue not executed\n",
      "17\n",
      "continue not executed\n",
      "18\n",
      "continue not executed\n",
      "19\n",
      "continue not executed\n",
      "20\n",
      "continue not executed\n",
      "outside while\n"
     ]
    }
   ],
   "source": [
    "a = raw_input(\"enter a value less than 10\")\n",
    "a = int(a)\n",
    "while a<=20:\n",
    "    print a\n",
    "    if a == 10:\n",
    "        print \"continue executed\"\n",
    "        a += 1\n",
    "        continue\n",
    "    a += 1\n",
    "    print \"continue not executed\"\n",
    "print \"outside while\""
   ]
  },
  {
   "cell_type": "code",
   "execution_count": null,
   "metadata": {
    "collapsed": true
   },
   "outputs": [],
   "source": []
  }
 ],
 "metadata": {
  "kernelspec": {
   "display_name": "Python 2",
   "language": "python",
   "name": "python2"
  },
  "language_info": {
   "codemirror_mode": {
    "name": "ipython",
    "version": 2
   },
   "file_extension": ".py",
   "mimetype": "text/x-python",
   "name": "python",
   "nbconvert_exporter": "python",
   "pygments_lexer": "ipython2",
   "version": "2.7.13"
  }
 },
 "nbformat": 4,
 "nbformat_minor": 2
}
