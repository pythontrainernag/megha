{
 "cells": [
  {
   "cell_type": "code",
   "execution_count": 1,
   "metadata": {
    "collapsed": true
   },
   "outputs": [],
   "source": [
    "#executing block of statements if condition satisfies"
   ]
  },
  {
   "cell_type": "code",
   "execution_count": 2,
   "metadata": {},
   "outputs": [
    {
     "name": "stdout",
     "output_type": "stream",
     "text": [
      "b is greater\n",
      "inside compound condition\n"
     ]
    }
   ],
   "source": [
    "#executing block of staements if conpound conditions(multiple) satisfies\n",
    "a = 5\n",
    "b = 15\n",
    "c = 10\n",
    "if b>a and b>c:\n",
    "    print \"b is greater\"\n",
    "    print \"inside compound condition\""
   ]
  },
  {
   "cell_type": "code",
   "execution_count": 3,
   "metadata": {},
   "outputs": [
    {
     "name": "stdout",
     "output_type": "stream",
     "text": [
      "b is greater\n",
      "inside else\n"
     ]
    }
   ],
   "source": [
    "# execute a block of statements if condition satisfies otherwise \n",
    "# execute alternative block of statements\n",
    "\n",
    "if a>b:\n",
    "    print \"a is greater\"\n",
    "else:\n",
    "    print \"b is greater\"\n",
    "    print \"inside else\"\n"
   ]
  },
  {
   "cell_type": "code",
   "execution_count": 4,
   "metadata": {},
   "outputs": [
    {
     "name": "stdout",
     "output_type": "stream",
     "text": [
      "a is greater\n"
     ]
    }
   ],
   "source": [
    "# execute a block of statements if condition satisfies otherwise \n",
    "# execute alternative block of statements\n",
    "a = 20\n",
    "if a>b:\n",
    "    print \"a is greater\"\n",
    "else:\n",
    "    print \"b is greater\"\n",
    "    print \"inside else\"\n"
   ]
  },
  {
   "cell_type": "code",
   "execution_count": 5,
   "metadata": {},
   "outputs": [
    {
     "name": "stdout",
     "output_type": "stream",
     "text": [
      "c is greater\n"
     ]
    }
   ],
   "source": [
    "a = 5\n",
    "b = 10\n",
    "c =  20\n",
    "d = 12\n",
    "if a>b and a>c and a>d:\n",
    "    print \"a is greater\"\n",
    "elif b>a and b>c and b>d:\n",
    "    print \"b is greater\"\n",
    "elif c>a and c>b and c>d:\n",
    "    print \"c is greater\"\n",
    "else:\n",
    "    print \"d is greater\""
   ]
  },
  {
   "cell_type": "code",
   "execution_count": 6,
   "metadata": {},
   "outputs": [
    {
     "name": "stdout",
     "output_type": "stream",
     "text": [
      "c is greater\n"
     ]
    }
   ],
   "source": [
    "a = 5\n",
    "b = 10\n",
    "c =  20\n",
    "d = 12\n",
    "if a>b and a>c and a>d:\n",
    "    print \"a is greater\"\n",
    "elif b>c and b>d:\n",
    "    print \"b is greater\"\n",
    "elif c>d:\n",
    "    print \"c is greater\"\n",
    "else:\n",
    "    print \"d is greater\""
   ]
  },
  {
   "cell_type": "code",
   "execution_count": 7,
   "metadata": {},
   "outputs": [
    {
     "name": "stdout",
     "output_type": "stream",
     "text": [
      "c is greater\n"
     ]
    }
   ],
   "source": [
    "if a<b:\n",
    "    if b<c:\n",
    "        if c<d:\n",
    "            print \"d is greater\"\n",
    "        else:\n",
    "            print \"c is greater\"\n",
    "            "
   ]
  },
  {
   "cell_type": "code",
   "execution_count": null,
   "metadata": {
    "collapsed": true
   },
   "outputs": [],
   "source": []
  }
 ],
 "metadata": {
  "kernelspec": {
   "display_name": "Python 2",
   "language": "python",
   "name": "python2"
  },
  "language_info": {
   "codemirror_mode": {
    "name": "ipython",
    "version": 2
   },
   "file_extension": ".py",
   "mimetype": "text/x-python",
   "name": "python",
   "nbconvert_exporter": "python",
   "pygments_lexer": "ipython2",
   "version": "2.7.13"
  }
 },
 "nbformat": 4,
 "nbformat_minor": 2
}
