{
 "cells": [
  {
   "cell_type": "code",
   "execution_count": 1,
   "metadata": {
    "collapsed": true
   },
   "outputs": [],
   "source": [
    "#def <fname>(arguments):\n",
    "#     <statements>"
   ]
  },
  {
   "cell_type": "code",
   "execution_count": 2,
   "metadata": {},
   "outputs": [
    {
     "name": "stdout",
     "output_type": "stream",
     "text": [
      "outside the function\n"
     ]
    }
   ],
   "source": [
    "def addi():\n",
    "    print \"I am in addition\"\n",
    "print \"outside the function\""
   ]
  },
  {
   "cell_type": "code",
   "execution_count": 3,
   "metadata": {},
   "outputs": [
    {
     "name": "stdout",
     "output_type": "stream",
     "text": [
      "<function addi at 0x03AFC0F0>\n"
     ]
    }
   ],
   "source": [
    "print addi"
   ]
  },
  {
   "cell_type": "code",
   "execution_count": 4,
   "metadata": {},
   "outputs": [
    {
     "name": "stdout",
     "output_type": "stream",
     "text": [
      "I am in addition\n"
     ]
    }
   ],
   "source": [
    "addi()"
   ]
  },
  {
   "cell_type": "code",
   "execution_count": 5,
   "metadata": {},
   "outputs": [
    {
     "name": "stdout",
     "output_type": "stream",
     "text": [
      "I am in addition\n"
     ]
    }
   ],
   "source": [
    "addi()"
   ]
  },
  {
   "cell_type": "code",
   "execution_count": 6,
   "metadata": {
    "collapsed": true
   },
   "outputs": [],
   "source": [
    "c = addi"
   ]
  },
  {
   "cell_type": "code",
   "execution_count": 7,
   "metadata": {},
   "outputs": [
    {
     "name": "stdout",
     "output_type": "stream",
     "text": [
      "<function addi at 0x03AFC0F0>\n"
     ]
    }
   ],
   "source": [
    "print c"
   ]
  },
  {
   "cell_type": "code",
   "execution_count": 8,
   "metadata": {},
   "outputs": [
    {
     "name": "stdout",
     "output_type": "stream",
     "text": [
      "<function addi at 0x03AFC0F0>\n"
     ]
    }
   ],
   "source": [
    "print addi"
   ]
  },
  {
   "cell_type": "code",
   "execution_count": 9,
   "metadata": {},
   "outputs": [
    {
     "name": "stdout",
     "output_type": "stream",
     "text": [
      "I am in addition\n"
     ]
    }
   ],
   "source": [
    "c()"
   ]
  },
  {
   "cell_type": "code",
   "execution_count": 10,
   "metadata": {
    "collapsed": true
   },
   "outputs": [],
   "source": [
    "a = [4,5,6]\n",
    "def myfun(b):\n",
    "    b[-1] = 100\n",
    "myfun(a)\n",
    "#print a"
   ]
  },
  {
   "cell_type": "code",
   "execution_count": 11,
   "metadata": {
    "collapsed": true
   },
   "outputs": [],
   "source": [
    "a = [4,5,6]\n",
    "def myfun(a):\n",
    "    a[-1] = 100\n",
    "myfun(a)\n",
    "#print a"
   ]
  },
  {
   "cell_type": "code",
   "execution_count": 12,
   "metadata": {},
   "outputs": [
    {
     "name": "stdout",
     "output_type": "stream",
     "text": [
      "[4, 5, 100]\n"
     ]
    }
   ],
   "source": [
    "print a"
   ]
  },
  {
   "cell_type": "code",
   "execution_count": 14,
   "metadata": {
    "collapsed": true
   },
   "outputs": [],
   "source": [
    "a = [4,5,6]\n",
    "def myfun(a):\n",
    "    #a[-1] = 200\n",
    "    a = [8, 9, 10]\n",
    "    a[-1] = 100\n",
    "myfun(a)\n",
    "#print a"
   ]
  },
  {
   "cell_type": "code",
   "execution_count": 15,
   "metadata": {},
   "outputs": [
    {
     "name": "stdout",
     "output_type": "stream",
     "text": [
      "[4, 5, 6]\n"
     ]
    }
   ],
   "source": [
    "print a"
   ]
  },
  {
   "cell_type": "code",
   "execution_count": 18,
   "metadata": {
    "collapsed": true
   },
   "outputs": [],
   "source": [
    "a = [4,5,6]\n",
    "def myfun(a):\n",
    "    a[-1] = 200\n",
    "    a = [8, 9, 10]\n",
    "    a[-1] = 100\n",
    "myfun(a)\n",
    "#print a"
   ]
  },
  {
   "cell_type": "code",
   "execution_count": 19,
   "metadata": {},
   "outputs": [
    {
     "name": "stdout",
     "output_type": "stream",
     "text": [
      "[4, 5, 200]\n"
     ]
    }
   ],
   "source": [
    "print a"
   ]
  },
  {
   "cell_type": "code",
   "execution_count": 20,
   "metadata": {},
   "outputs": [
    {
     "name": "stdout",
     "output_type": "stream",
     "text": [
      "[8, 9, 100]\n"
     ]
    }
   ],
   "source": [
    "a = [4,5,6]\n",
    "def myfun(a):\n",
    "    a[-1] = 200\n",
    "    a = [8, 9, 10]\n",
    "    a[-1] = 100\n",
    "    return a\n",
    "b= myfun(a)\n",
    "print b"
   ]
  },
  {
   "cell_type": "code",
   "execution_count": 21,
   "metadata": {},
   "outputs": [
    {
     "name": "stdout",
     "output_type": "stream",
     "text": [
      "[8, 9, 100]\n"
     ]
    }
   ],
   "source": [
    "a = [4,5,6]\n",
    "def myfun(a):\n",
    "    a[-1] = 200\n",
    "    a = [8, 9, 10]\n",
    "    a[-1] = 100\n",
    "    return a\n",
    "a= myfun(a)\n",
    "print a"
   ]
  },
  {
   "cell_type": "code",
   "execution_count": 22,
   "metadata": {},
   "outputs": [
    {
     "name": "stdout",
     "output_type": "stream",
     "text": [
      "[8, 9, 100]\n"
     ]
    }
   ],
   "source": [
    "a = [4,5,6]\n",
    "def myfun(a):\n",
    "    a[-1] = 200\n",
    "    a = [8, 9, 10]\n",
    "    a[-1] = 100\n",
    "    return a\n",
    "    a = [10, 20]\n",
    "    print a\n",
    "a= myfun(a)\n",
    "print a"
   ]
  },
  {
   "cell_type": "code",
   "execution_count": null,
   "metadata": {
    "collapsed": true
   },
   "outputs": [],
   "source": [
    "def fraction(a):\n",
    "    if a==1 or a==0:\n",
    "        return 1\n",
    "    return a*fraction(a-1)\n",
    "fraction(5)"
   ]
  }
 ],
 "metadata": {
  "kernelspec": {
   "display_name": "Python 2",
   "language": "python",
   "name": "python2"
  },
  "language_info": {
   "codemirror_mode": {
    "name": "ipython",
    "version": 2
   },
   "file_extension": ".py",
   "mimetype": "text/x-python",
   "name": "python",
   "nbconvert_exporter": "python",
   "pygments_lexer": "ipython2",
   "version": "2.7.13"
  }
 },
 "nbformat": 4,
 "nbformat_minor": 2
}
